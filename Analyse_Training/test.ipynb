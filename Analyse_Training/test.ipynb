{
 "cells": [
  {
   "cell_type": "code",
   "execution_count": 1,
   "metadata": {},
   "outputs": [
    {
     "name": "stdout",
     "output_type": "stream",
     "text": [
      "Requirement already satisfied: numpy in c:\\users\\achim\\anaconda3\\envs\\dsc4\\lib\\site-packages (1.26.4)\n",
      "Collecting numpy\n",
      "  Downloading numpy-2.1.3-cp311-cp311-win_amd64.whl.metadata (60 kB)\n",
      "     ---------------------------------------- 0.0/60.8 kB ? eta -:--:--\n",
      "     --------------------------------- ------ 51.2/60.8 kB 1.3 MB/s eta 0:00:01\n",
      "     ---------------------------------------- 60.8/60.8 kB 1.1 MB/s eta 0:00:00\n",
      "Downloading numpy-2.1.3-cp311-cp311-win_amd64.whl (12.9 MB)\n",
      "   ---------------------------------------- 0.0/12.9 MB ? eta -:--:--\n",
      "   ---------------------------------------- 0.0/12.9 MB 1.4 MB/s eta 0:00:10\n",
      "   ---------------------------------------- 0.0/12.9 MB 1.4 MB/s eta 0:00:10\n",
      "   - -------------------------------------- 0.6/12.9 MB 4.9 MB/s eta 0:00:03\n",
      "   --- ------------------------------------ 1.0/12.9 MB 6.4 MB/s eta 0:00:02\n",
      "   ----- ---------------------------------- 1.7/12.9 MB 7.9 MB/s eta 0:00:02\n",
      "   ------- -------------------------------- 2.3/12.9 MB 9.1 MB/s eta 0:00:02\n",
      "   -------- ------------------------------- 2.7/12.9 MB 9.0 MB/s eta 0:00:02\n",
      "   ---------- ----------------------------- 3.5/12.9 MB 9.8 MB/s eta 0:00:01\n",
      "   ------------- -------------------------- 4.3/12.9 MB 10.5 MB/s eta 0:00:01\n",
      "   --------------- ------------------------ 5.1/12.9 MB 11.6 MB/s eta 0:00:01\n",
      "   ---------------- ----------------------- 5.3/12.9 MB 11.3 MB/s eta 0:00:01\n",
      "   ----------------- ---------------------- 5.6/12.9 MB 10.9 MB/s eta 0:00:01\n",
      "   ------------------ --------------------- 5.9/12.9 MB 10.4 MB/s eta 0:00:01\n",
      "   -------------------- ------------------- 6.5/12.9 MB 10.3 MB/s eta 0:00:01\n",
      "   --------------------- ------------------ 6.9/12.9 MB 10.2 MB/s eta 0:00:01\n",
      "   ------------------------ --------------- 7.9/12.9 MB 10.9 MB/s eta 0:00:01\n",
      "   -------------------------- ------------- 8.5/12.9 MB 11.1 MB/s eta 0:00:01\n",
      "   ----------------------------- ---------- 9.4/12.9 MB 11.5 MB/s eta 0:00:01\n",
      "   ------------------------------- -------- 10.0/12.9 MB 11.7 MB/s eta 0:00:01\n",
      "   -------------------------------- ------- 10.4/12.9 MB 12.6 MB/s eta 0:00:01\n",
      "   ---------------------------------- ----- 11.0/12.9 MB 12.6 MB/s eta 0:00:01\n",
      "   ---------------------------------- ----- 11.0/12.9 MB 12.6 MB/s eta 0:00:01\n",
      "   ---------------------------------- ----- 11.2/12.9 MB 11.7 MB/s eta 0:00:01\n",
      "   ----------------------------------- ---- 11.3/12.9 MB 11.5 MB/s eta 0:00:01\n",
      "   ------------------------------------- -- 12.0/12.9 MB 11.1 MB/s eta 0:00:01\n",
      "   ---------------------------------------  12.8/12.9 MB 11.5 MB/s eta 0:00:01\n",
      "   ---------------------------------------- 12.9/12.9 MB 10.9 MB/s eta 0:00:00\n",
      "Installing collected packages: numpy\n",
      "  Attempting uninstall: numpy\n",
      "    Found existing installation: numpy 1.26.4\n",
      "    Uninstalling numpy-1.26.4:\n",
      "      Successfully uninstalled numpy-1.26.4\n",
      "Successfully installed numpy-2.1.3\n"
     ]
    },
    {
     "name": "stderr",
     "output_type": "stream",
     "text": [
      "ERROR: pip's dependency resolver does not currently take into account all the packages that are installed. This behaviour is the source of the following dependency conflicts.\n",
      "numba 0.60.0 requires numpy<2.1,>=1.22, but you have numpy 2.1.3 which is incompatible.\n",
      "tensorflow-intel 2.16.1 requires numpy<2.0.0,>=1.23.5; python_version <= \"3.11\", but you have numpy 2.1.3 which is incompatible.\n"
     ]
    }
   ],
   "source": [
    "!pip install numpy --upgrade"
   ]
  },
  {
   "cell_type": "code",
   "execution_count": 2,
   "metadata": {},
   "outputs": [],
   "source": [
    "import pandas as pd\n",
    "import numpy as np"
   ]
  },
  {
   "cell_type": "code",
   "execution_count": 3,
   "metadata": {},
   "outputs": [],
   "source": [
    "df = pd.read_pickle(\"../Daten/energy_test1.pkl\")"
   ]
  },
  {
   "cell_type": "code",
   "execution_count": 6,
   "metadata": {},
   "outputs": [
    {
     "data": {
      "text/html": [
       "<div>\n",
       "<style scoped>\n",
       "    .dataframe tbody tr th:only-of-type {\n",
       "        vertical-align: middle;\n",
       "    }\n",
       "\n",
       "    .dataframe tbody tr th {\n",
       "        vertical-align: top;\n",
       "    }\n",
       "\n",
       "    .dataframe thead th {\n",
       "        text-align: right;\n",
       "    }\n",
       "</style>\n",
       "<table border=\"1\" class=\"dataframe\">\n",
       "  <thead>\n",
       "    <tr style=\"text-align: right;\">\n",
       "      <th></th>\n",
       "      <th>dtm</th>\n",
       "      <th>ref_datetime</th>\n",
       "      <th>Solar_capacity_mwp</th>\n",
       "    </tr>\n",
       "  </thead>\n",
       "  <tbody>\n",
       "    <tr>\n",
       "      <th>0</th>\n",
       "      <td>2023-01-01 00:00:00+00:00</td>\n",
       "      <td>2022-12-31 00:00:00+00:00</td>\n",
       "      <td>2262.233423</td>\n",
       "    </tr>\n",
       "    <tr>\n",
       "      <th>1</th>\n",
       "      <td>2023-01-01 01:00:00+00:00</td>\n",
       "      <td>2022-12-31 00:00:00+00:00</td>\n",
       "      <td>2262.233423</td>\n",
       "    </tr>\n",
       "    <tr>\n",
       "      <th>2</th>\n",
       "      <td>2023-01-01 02:00:00+00:00</td>\n",
       "      <td>2022-12-31 00:00:00+00:00</td>\n",
       "      <td>2262.233423</td>\n",
       "    </tr>\n",
       "    <tr>\n",
       "      <th>3</th>\n",
       "      <td>2023-01-01 03:00:00+00:00</td>\n",
       "      <td>2022-12-31 00:00:00+00:00</td>\n",
       "      <td>2262.233423</td>\n",
       "    </tr>\n",
       "    <tr>\n",
       "      <th>4</th>\n",
       "      <td>2023-01-01 04:00:00+00:00</td>\n",
       "      <td>2022-12-31 00:00:00+00:00</td>\n",
       "      <td>2262.233423</td>\n",
       "    </tr>\n",
       "    <tr>\n",
       "      <th>...</th>\n",
       "      <td>...</td>\n",
       "      <td>...</td>\n",
       "      <td>...</td>\n",
       "    </tr>\n",
       "    <tr>\n",
       "      <th>7268</th>\n",
       "      <td>2023-10-30 20:00:00+00:00</td>\n",
       "      <td>2023-10-29 18:00:00+00:00</td>\n",
       "      <td>2452.979156</td>\n",
       "    </tr>\n",
       "    <tr>\n",
       "      <th>7269</th>\n",
       "      <td>2023-10-30 21:00:00+00:00</td>\n",
       "      <td>2023-10-29 18:00:00+00:00</td>\n",
       "      <td>2452.979156</td>\n",
       "    </tr>\n",
       "    <tr>\n",
       "      <th>7270</th>\n",
       "      <td>2023-10-30 22:00:00+00:00</td>\n",
       "      <td>2023-10-29 18:00:00+00:00</td>\n",
       "      <td>2452.979156</td>\n",
       "    </tr>\n",
       "    <tr>\n",
       "      <th>7271</th>\n",
       "      <td>2023-10-30 23:00:00+00:00</td>\n",
       "      <td>2023-10-29 18:00:00+00:00</td>\n",
       "      <td>2452.950587</td>\n",
       "    </tr>\n",
       "    <tr>\n",
       "      <th>7272</th>\n",
       "      <td>2023-10-31 00:00:00+00:00</td>\n",
       "      <td>2023-10-30 00:00:00+00:00</td>\n",
       "      <td>2452.922019</td>\n",
       "    </tr>\n",
       "  </tbody>\n",
       "</table>\n",
       "<p>7245 rows × 3 columns</p>\n",
       "</div>"
      ],
      "text/plain": [
       "                           dtm              ref_datetime  Solar_capacity_mwp\n",
       "0    2023-01-01 00:00:00+00:00 2022-12-31 00:00:00+00:00         2262.233423\n",
       "1    2023-01-01 01:00:00+00:00 2022-12-31 00:00:00+00:00         2262.233423\n",
       "2    2023-01-01 02:00:00+00:00 2022-12-31 00:00:00+00:00         2262.233423\n",
       "3    2023-01-01 03:00:00+00:00 2022-12-31 00:00:00+00:00         2262.233423\n",
       "4    2023-01-01 04:00:00+00:00 2022-12-31 00:00:00+00:00         2262.233423\n",
       "...                        ...                       ...                 ...\n",
       "7268 2023-10-30 20:00:00+00:00 2023-10-29 18:00:00+00:00         2452.979156\n",
       "7269 2023-10-30 21:00:00+00:00 2023-10-29 18:00:00+00:00         2452.979156\n",
       "7270 2023-10-30 22:00:00+00:00 2023-10-29 18:00:00+00:00         2452.979156\n",
       "7271 2023-10-30 23:00:00+00:00 2023-10-29 18:00:00+00:00         2452.950587\n",
       "7272 2023-10-31 00:00:00+00:00 2023-10-30 00:00:00+00:00         2452.922019\n",
       "\n",
       "[7245 rows x 3 columns]"
      ]
     },
     "execution_count": 6,
     "metadata": {},
     "output_type": "execute_result"
    }
   ],
   "source": [
    "df"
   ]
  }
 ],
 "metadata": {
  "kernelspec": {
   "display_name": "dsc4",
   "language": "python",
   "name": "python3"
  },
  "language_info": {
   "codemirror_mode": {
    "name": "ipython",
    "version": 3
   },
   "file_extension": ".py",
   "mimetype": "text/x-python",
   "name": "python",
   "nbconvert_exporter": "python",
   "pygments_lexer": "ipython3",
   "version": "3.11.9"
  }
 },
 "nbformat": 4,
 "nbformat_minor": 2
}
