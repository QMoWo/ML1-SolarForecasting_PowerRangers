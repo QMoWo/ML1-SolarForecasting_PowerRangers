{
 "cells": [
  {
   "cell_type": "code",
   "execution_count": 1,
   "metadata": {},
   "outputs": [],
   "source": [
    "import pandas as pd\n",
    "import numpy as np\n",
    "import seaborn as sns\n",
    "import matplotlib.pyplot as plt\n",
    "from IPython.display import Markdown\n",
    "from sklearn.preprocessing import StandardScaler\n",
    "\n",
    "from utils.common.merge_df import (merge_forcast_and_train_df,\n",
    "                                   remove_NaN_rows)\n",
    "from utils.common.train_model import (train_model,\n",
    "                                      train_model_cv,\n",
    "                                      train_model_stacking)\n",
    "from utils.common.test_model import (test_model)\n",
    "from utils.common.create_features import (create_seasons,\n",
    "                                          create_datetime_features,\n",
    "                                          create_adjusted_values,\n",
    "                                          check_if_in_daylight,\n",
    "                                          create_rolling_avg,\n",
    "                                            astral)"
   ]
  },
  {
   "cell_type": "code",
   "execution_count": 2,
   "metadata": {},
   "outputs": [],
   "source": [
    "df_forecast = pd.read_parquet('../Daten/forecasts.parquet')\n",
    "df_test1 = pd.read_parquet('../Daten/energy_test1.parquet')\n",
    "df_test2 = pd.read_parquet('../Daten/energy_test2.parquet')\n",
    "df_train = pd.read_parquet('../Daten/energy_train.parquet')"
   ]
  },
  {
   "cell_type": "code",
   "execution_count": 3,
   "metadata": {},
   "outputs": [],
   "source": [
    "# entferne alle NaN Werte aus den Daten\n",
    "df_train, df_forecast = remove_NaN_rows(df_train, df_forecast)\n"
   ]
  },
  {
   "cell_type": "code",
   "execution_count": 4,
   "metadata": {},
   "outputs": [],
   "source": [
    "\n",
    "# merge die Daten\n",
    "merged_df = merge_forcast_and_train_df(df_forecast, df_train)\n",
    "\n",
    "# merge test 1\n",
    "merged_test_df = merge_forcast_and_train_df(df_forecast, df_test1)\n",
    "\n",
    "# merge test 2\n",
    "merged_test2_df = merge_forcast_and_train_df(df_forecast, df_test2)"
   ]
  },
  {
   "cell_type": "code",
   "execution_count": 5,
   "metadata": {
    "scrolled": true
   },
   "outputs": [],
   "source": [
    "# Erstelle Jahreszeiten als categorical feature\n",
    "#merged_df = await create_seasons(merged_df)\n",
    "\n",
    "# Erstelle Spalten für Stunden und Monate\n",
    "merged_df = await create_datetime_features(merged_df)\n",
    "\n",
    "merged_df = await astral(merged_df)\n",
    "\n",
    "\n",
    "#merged_df = await check_if_in_daylight(merged_df)\n",
    "\n",
    "# Erstelle Spalten für die adjustierten Werte\n",
    "# Können wir wieder auskommentieren wenn wir das wieder testen \n",
    "#merged_df = await create_adjusted_values(merged_df)\n",
    "#merged_df = await create_rolling_avg(merged_df)\n",
    "\n",
    "\n",
    "# create features for test data\n",
    "#merged_test_df = await create_seasons(merged_test_df)\n",
    "#merged_test2_df = await create_seasons(merged_test2_df)\n",
    "\n",
    "merged_test_df = await create_datetime_features(merged_test_df)\n",
    "merged_test2_df = await create_datetime_features(merged_test2_df)\n",
    "\n",
    "#merged_test_df = await check_if_in_daylight(merged_test_df)\n",
    "#merged_test2_df = await check_if_in_daylight(merged_test2_df)\n",
    "\n",
    "#merged_test_df = await create_adjusted_values(merged_test_df)\n",
    "#merged_test2_df = await create_adjusted_values(merged_test2_df)"
   ]
  },
  {
   "cell_type": "code",
   "execution_count": 6,
   "metadata": {
    "scrolled": true
   },
   "outputs": [],
   "source": [
    "# Scatterplot für jedes Feature gegen die Zielvariablen\n",
    "#for feature in merged_df.columns:\n",
    "#    if feature != 'Solar_MWh':  # Zielvariable nicht als Feature verwenden\n",
    "#        plt.figure(figsize=(6, 4))\n",
    "#        sns.scatterplot(x=merged_df[feature], y=merged_df['Solar_MWh'], alpha=0.1)\n",
    "#        plt.title(f'Relationship between {feature} and Solar_MWh')\n",
    "#        plt.show()\n"
   ]
  },
  {
   "cell_type": "code",
   "execution_count": 7,
   "metadata": {},
   "outputs": [],
   "source": [
    "#\"sunrise\", \n",
    "#                                                       \"sunset\", \n",
    "#                                                       \"dawn\", \n",
    "#                                                       \"dusk\", \n",
    "#                                                       \"noon\"\n",
    "#\"sun_altitude\",\n",
    "#                                                       \"sun_azimuth\","
   ]
  },
  {
   "cell_type": "code",
   "execution_count": 8,
   "metadata": {},
   "outputs": [],
   "source": [
    "#merged_df"
   ]
  },
  {
   "cell_type": "code",
   "execution_count": 9,
   "metadata": {},
   "outputs": [],
   "source": [
    "model, evaluation_md, scaler, test_col = train_model(merged_df, \n",
    "                                                      [ \"SolarDownwardRadiation\",\n",
    "                                                       \"week\",\n",
    "                                                       \"hour\",\n",
    "                                                       \"month\",\n",
    "                                                       \"rbf_hour_0\",\n",
    "                                                       \"rbf_hour_1\",\n",
    "                                                       \"rbf_hour_2\",\n",
    "                                                       \"rbf_month_0\",\n",
    "                                                       \"rbf_month_1\",\n",
    "                                                       \"rbf_month_2\",\n",
    "                                                       \"rbf_week_0\",\n",
    "                                                       \"rbf_week_1\",\n",
    "                                                       \"rbf_week_2\",\n",
    "                                                       \"sun_altitude\"\n",
    "                                                       \n",
    "                                                       \n",
    "                                                                ], \n",
    "                                                    \"Solar_MWh\")"
   ]
  },
  {
   "cell_type": "code",
   "execution_count": 10,
   "metadata": {},
   "outputs": [
    {
     "data": {
      "text/markdown": [
       "### Ridge(alpha=0.5) Evaluation\n",
       "\n",
       "| Dataset | R² | RMSE | MAE | Rows | Columns |\n",
       "|---------|--------:|------------:|--------:|-------:|-------:|\n",
       "| Train   | 0.88769 | 61.67 | 36.35 | 31524 | 100 |\n",
       "| Test    | 0.88945 | 61.35 | 36.32 | 7881 | 100 |\n",
       "\n",
       "### Top 10 Coefficients\n",
       "\n",
       "| Feature Name           |   Coefficient |\n",
       "|:-----------------------|--------------:|\n",
       "| SolarDownwardRadiation |     144.163   |\n",
       "| sun_altitude           |      83.0674  |\n",
       "| month_12               |      11.6273  |\n",
       "| month_4                |     -10.7891  |\n",
       "| month_1                |      10.6804  |\n",
       "| rbf_hour_0             |      10.4033  |\n",
       "| rbf_month_0            |      10.4033  |\n",
       "| month_5                |      -8.75384 |\n",
       "| hour_0                 |       8.55912 |\n",
       "| hour_6                 |      -8.42451 |\n",
       "\n",
       "Number of coefficients that are zero: 0/100\n",
       "\n",
       "\n",
       "Alpha value: 0\n"
      ],
      "text/plain": [
       "<IPython.core.display.Markdown object>"
      ]
     },
     "metadata": {},
     "output_type": "display_data"
    }
   ],
   "source": [
    "display(Markdown(evaluation_md))"
   ]
  },
  {
   "cell_type": "code",
   "execution_count": 11,
   "metadata": {},
   "outputs": [
    {
     "data": {
      "text/plain": [
       "Index(['SolarDownwardRadiation', 'rbf_hour_0', 'rbf_hour_1', 'rbf_hour_2',\n",
       "       'rbf_month_0', 'rbf_month_1', 'rbf_month_2', 'rbf_week_0', 'rbf_week_1',\n",
       "       'rbf_week_2', 'sun_altitude', 'week_1', 'week_2', 'week_3', 'week_4',\n",
       "       'week_5', 'week_6', 'week_7', 'week_8', 'week_9', 'week_10', 'week_11',\n",
       "       'week_12', 'week_13', 'week_14', 'week_15', 'week_16', 'week_17',\n",
       "       'week_18', 'week_19', 'week_20', 'week_21', 'week_22', 'week_23',\n",
       "       'week_24', 'week_25', 'week_26', 'week_27', 'week_28', 'week_29',\n",
       "       'week_30', 'week_31', 'week_32', 'week_33', 'week_34', 'week_35',\n",
       "       'week_36', 'week_37', 'week_38', 'week_39', 'week_40', 'week_41',\n",
       "       'week_42', 'week_43', 'week_44', 'week_45', 'week_46', 'week_47',\n",
       "       'week_48', 'week_49', 'week_50', 'week_51', 'week_52', 'week_53',\n",
       "       'hour_0', 'hour_1', 'hour_2', 'hour_3', 'hour_4', 'hour_5', 'hour_6',\n",
       "       'hour_7', 'hour_8', 'hour_9', 'hour_10', 'hour_11', 'hour_12',\n",
       "       'hour_13', 'hour_14', 'hour_15', 'hour_16', 'hour_17', 'hour_18',\n",
       "       'hour_19', 'hour_20', 'hour_21', 'hour_22', 'hour_23', 'month_1',\n",
       "       'month_2', 'month_3', 'month_4', 'month_5', 'month_6', 'month_7',\n",
       "       'month_8', 'month_9', 'month_10', 'month_11', 'month_12'],\n",
       "      dtype='object')"
      ]
     },
     "execution_count": 11,
     "metadata": {},
     "output_type": "execute_result"
    }
   ],
   "source": [
    "test_col"
   ]
  },
  {
   "cell_type": "code",
   "execution_count": 12,
   "metadata": {},
   "outputs": [
    {
     "name": "stdout",
     "output_type": "stream",
     "text": [
      "Series([], dtype: int64)\n",
      "Empty DataFrame\n",
      "Columns: [dtm, ref_datetime, Solar_capacity_mwp, valid_time, SolarDownwardRadiation, CloudCover, Temperature, valid_datetime, day_of_year, year, hour_sin, hour_cos, month_sin, month_cos, week_sin, week_cos, day_of_year_sin, day_of_year_cos, rbf_hour_0, rbf_hour_1, rbf_hour_2, rbf_month_0, rbf_month_1, rbf_month_2, rbf_week_0, rbf_week_1, rbf_week_2, Weather Model_DWD ICON, Weather Model_NCEP GFS, hour_0, hour_1, hour_2, hour_3, hour_4, hour_5, hour_6, hour_7, hour_8, hour_9, hour_10, hour_11, hour_12, hour_13, hour_14, hour_15, hour_16, hour_17, hour_18, hour_19, hour_20, hour_21, hour_22, hour_23, month_1, month_2, month_3, month_4, month_5, month_6, month_7, month_8, month_9, month_10, week_1, week_2, week_3, week_4, week_5, week_6, week_7, week_8, week_9, week_10, week_11, week_12, week_13, week_14, week_15, week_16, week_17, week_18, week_19, week_20, week_21, week_22, week_23, week_24, week_25, week_26, week_27, week_28, week_29, week_30, week_31, week_32, week_33, week_34, week_35, week_36, week_37, ...]\n",
      "Index: []\n",
      "\n",
      "[0 rows x 119 columns]\n",
      "                        dtm              ref_datetime  Solar_capacity_mwp  \\\n",
      "0 2023-01-01 00:00:00+00:00 2022-12-31 00:00:00+00:00         2262.233423   \n",
      "1 2023-01-01 00:00:00+00:00 2022-12-31 00:00:00+00:00         2262.233423   \n",
      "2 2023-01-01 01:00:00+00:00 2022-12-31 00:00:00+00:00         2262.233423   \n",
      "3 2023-01-01 01:00:00+00:00 2022-12-31 00:00:00+00:00         2262.233423   \n",
      "4 2023-01-01 02:00:00+00:00 2022-12-31 00:00:00+00:00         2262.233423   \n",
      "\n",
      "   valid_time  SolarDownwardRadiation  CloudCover  Temperature  \\\n",
      "0          24                0.000000     0.99957    10.612988   \n",
      "1          24                0.000000     0.99525    11.345912   \n",
      "2          25                0.000000     1.00000    10.425348   \n",
      "3          25                0.000000     0.98830    10.601108   \n",
      "4          26                0.021875     1.00000    10.405902   \n",
      "\n",
      "             valid_datetime  day_of_year  year  ...  week_48  week_53  \\\n",
      "0 2023-01-01 00:00:00+00:00            1  2023  ...        0        0   \n",
      "1 2023-01-01 00:00:00+00:00            1  2023  ...        0        0   \n",
      "2 2023-01-01 01:00:00+00:00            1  2023  ...        0        0   \n",
      "3 2023-01-01 01:00:00+00:00            1  2023  ...        0        0   \n",
      "4 2023-01-01 02:00:00+00:00            1  2023  ...        0        0   \n",
      "\n",
      "   week_51  week_45  week_49  month_12  week_46  week_50  month_11  week_47  \n",
      "0        0        0        0         0        0        0         0        0  \n",
      "1        0        0        0         0        0        0         0        0  \n",
      "2        0        0        0         0        0        0         0        0  \n",
      "3        0        0        0         0        0        0         0        0  \n",
      "4        0        0        0         0        0        0         0        0  \n",
      "\n",
      "[5 rows x 119 columns]\n",
      "Series([], dtype: int64)\n",
      "Empty DataFrame\n",
      "Columns: [dtm, ref_datetime, Solar_capacity_mwp, valid_time, SolarDownwardRadiation, CloudCover, Temperature, valid_datetime, day_of_year, year, hour_sin, hour_cos, month_sin, month_cos, week_sin, week_cos, day_of_year_sin, day_of_year_cos, rbf_hour_0, rbf_hour_1, rbf_hour_2, rbf_month_0, rbf_month_1, rbf_month_2, rbf_week_0, rbf_week_1, rbf_week_2, Weather Model_DWD ICON, Weather Model_NCEP GFS, hour_0, hour_1, hour_2, hour_3, hour_4, hour_5, hour_6, hour_7, hour_8, hour_9, hour_10, hour_11, hour_12, hour_13, hour_14, hour_15, hour_16, hour_17, hour_18, hour_19, hour_20, hour_21, hour_22, hour_23, month_1, month_2, month_3, month_4, month_5, month_8, month_9, month_10, month_11, month_12, week_1, week_2, week_3, week_4, week_5, week_6, week_7, week_8, week_9, week_10, week_11, week_12, week_13, week_14, week_15, week_16, week_17, week_18, week_19, week_20, week_31, week_32, week_33, week_34, week_35, week_36, week_37, week_38, week_39, week_40, week_41, week_42, week_43, week_44, week_45, week_46, week_47, ...]\n",
      "Index: []\n",
      "\n",
      "[0 rows x 119 columns]\n",
      "                        dtm              ref_datetime  Solar_capacity_mwp  \\\n",
      "0 2023-10-31 01:00:00+00:00 2023-10-30 00:00:00+00:00         2452.922019   \n",
      "1 2023-10-31 01:00:00+00:00 2023-10-30 00:00:00+00:00         2452.922019   \n",
      "2 2023-10-31 02:00:00+00:00 2023-10-30 00:00:00+00:00         2452.922019   \n",
      "3 2023-10-31 02:00:00+00:00 2023-10-30 00:00:00+00:00         2452.922019   \n",
      "4 2023-10-31 03:00:00+00:00 2023-10-30 00:00:00+00:00         2452.922019   \n",
      "\n",
      "   valid_time  SolarDownwardRadiation  CloudCover  Temperature  \\\n",
      "0          25                0.000000    0.321681     7.945722   \n",
      "1          25                0.000000    0.864700     9.539495   \n",
      "2          26                0.010957    0.257876     7.602008   \n",
      "3          26                0.000000    0.742350     9.315203   \n",
      "4          27                0.000000    0.317164     7.319525   \n",
      "\n",
      "             valid_datetime  day_of_year  year  ...  week_30  week_53  \\\n",
      "0 2023-10-31 01:00:00+00:00          304  2023  ...        0        0   \n",
      "1 2023-10-31 01:00:00+00:00          304  2023  ...        0        0   \n",
      "2 2023-10-31 02:00:00+00:00          304  2023  ...        0        0   \n",
      "3 2023-10-31 02:00:00+00:00          304  2023  ...        0        0   \n",
      "4 2023-10-31 03:00:00+00:00          304  2023  ...        0        0   \n",
      "\n",
      "   month_7  week_23  week_24  month_6  week_29  week_21  week_27  sun_altitude  \n",
      "0        0        0        0        0        0        0        0             0  \n",
      "1        0        0        0        0        0        0        0             0  \n",
      "2        0        0        0        0        0        0        0             0  \n",
      "3        0        0        0        0        0        0        0             0  \n",
      "4        0        0        0        0        0        0        0             0  \n",
      "\n",
      "[5 rows x 119 columns]\n"
     ]
    }
   ],
   "source": [
    "# scale the data\n",
    "merged_test_pred_df = test_model(model, scaler, merged_test_df, test_col)\n",
    "merged_test2_pred_df = test_model(model, scaler, merged_test2_df, test_col)"
   ]
  },
  {
   "cell_type": "code",
   "execution_count": 13,
   "metadata": {},
   "outputs": [],
   "source": [
    "merged_test_pred_df.to_pickle('test1.pkl')\n",
    "merged_test2_pred_df.to_pickle('test2.pkl')"
   ]
  }
 ],
 "metadata": {
  "kernelspec": {
   "display_name": "Python ml1",
   "language": "python",
   "name": "ml1"
  },
  "language_info": {
   "codemirror_mode": {
    "name": "ipython",
    "version": 3
   },
   "file_extension": ".py",
   "mimetype": "text/x-python",
   "name": "python",
   "nbconvert_exporter": "python",
   "pygments_lexer": "ipython3",
   "version": "3.10.3"
  }
 },
 "nbformat": 4,
 "nbformat_minor": 4
}
