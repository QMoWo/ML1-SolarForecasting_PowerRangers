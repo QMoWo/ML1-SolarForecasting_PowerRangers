{
 "cells": [
  {
   "cell_type": "code",
   "execution_count": 1,
   "metadata": {},
   "outputs": [],
   "source": [
    "import pandas as pd\n",
    "import numpy\n",
    "from IPython.display import Markdown\n",
    "\n",
    "\n",
    "from utils.common.merge_df import (merge_forcast_and_train_df,\n",
    "                                   remove_NaN_rows)\n",
    "from utils.common.train_model import (train_model)"
   ]
  },
  {
   "cell_type": "code",
   "execution_count": 2,
   "metadata": {},
   "outputs": [],
   "source": [
    "df_forecast = pd.read_parquet('../Daten/forecasts.parquet')\n",
    "\n",
    "df_test1 = pd.read_parquet('../Daten/energy_test1.parquet')\n",
    "\n",
    "df_test2 = pd.read_parquet('../Daten/energy_test2.parquet')\n",
    "\n",
    "df_train = pd.read_parquet('../Daten/energy_train.parquet')"
   ]
  },
  {
   "cell_type": "code",
   "execution_count": 3,
   "metadata": {},
   "outputs": [],
   "source": [
    "df_train, df_forecast = remove_NaN_rows(df_train, df_forecast)\n",
    "\n",
    "merged_df = merge_forcast_and_train_df(df_forecast, df_train)"
   ]
  },
  {
   "cell_type": "code",
   "execution_count": 4,
   "metadata": {},
   "outputs": [
    {
     "data": {
      "text/html": [
       "<div>\n",
       "<style scoped>\n",
       "    .dataframe tbody tr th:only-of-type {\n",
       "        vertical-align: middle;\n",
       "    }\n",
       "\n",
       "    .dataframe tbody tr th {\n",
       "        vertical-align: top;\n",
       "    }\n",
       "\n",
       "    .dataframe thead th {\n",
       "        text-align: right;\n",
       "    }\n",
       "</style>\n",
       "<table border=\"1\" class=\"dataframe\">\n",
       "  <thead>\n",
       "    <tr style=\"text-align: right;\">\n",
       "      <th></th>\n",
       "      <th>dtm</th>\n",
       "      <th>ref_datetime</th>\n",
       "      <th>Solar_capacity_mwp</th>\n",
       "      <th>Solar_MWh</th>\n",
       "      <th>valid_time</th>\n",
       "      <th>SolarDownwardRadiation</th>\n",
       "      <th>CloudCover</th>\n",
       "      <th>Temperature</th>\n",
       "      <th>Weather Model</th>\n",
       "      <th>valid_datetime</th>\n",
       "    </tr>\n",
       "  </thead>\n",
       "  <tbody>\n",
       "    <tr>\n",
       "      <th>0</th>\n",
       "      <td>2020-09-21 00:00:00+00:00</td>\n",
       "      <td>2020-09-20 00:00:00+00:00</td>\n",
       "      <td>2130.510089</td>\n",
       "      <td>0.0</td>\n",
       "      <td>24</td>\n",
       "      <td>0.000000</td>\n",
       "      <td>0.327759</td>\n",
       "      <td>12.216522</td>\n",
       "      <td>DWD ICON</td>\n",
       "      <td>2020-09-21 00:00:00+00:00</td>\n",
       "    </tr>\n",
       "    <tr>\n",
       "      <th>1</th>\n",
       "      <td>2020-09-21 00:00:00+00:00</td>\n",
       "      <td>2020-09-20 00:00:00+00:00</td>\n",
       "      <td>2130.510089</td>\n",
       "      <td>0.0</td>\n",
       "      <td>24</td>\n",
       "      <td>0.000000</td>\n",
       "      <td>0.002000</td>\n",
       "      <td>12.240011</td>\n",
       "      <td>NCEP GFS</td>\n",
       "      <td>2020-09-21 00:00:00+00:00</td>\n",
       "    </tr>\n",
       "    <tr>\n",
       "      <th>2</th>\n",
       "      <td>2020-09-21 01:00:00+00:00</td>\n",
       "      <td>2020-09-20 00:00:00+00:00</td>\n",
       "      <td>2130.510089</td>\n",
       "      <td>0.0</td>\n",
       "      <td>25</td>\n",
       "      <td>0.008838</td>\n",
       "      <td>0.436067</td>\n",
       "      <td>12.015985</td>\n",
       "      <td>DWD ICON</td>\n",
       "      <td>2020-09-21 01:00:00+00:00</td>\n",
       "    </tr>\n",
       "    <tr>\n",
       "      <th>3</th>\n",
       "      <td>2020-09-21 01:00:00+00:00</td>\n",
       "      <td>2020-09-20 00:00:00+00:00</td>\n",
       "      <td>2130.510089</td>\n",
       "      <td>0.0</td>\n",
       "      <td>25</td>\n",
       "      <td>0.000000</td>\n",
       "      <td>0.003000</td>\n",
       "      <td>12.032483</td>\n",
       "      <td>NCEP GFS</td>\n",
       "      <td>2020-09-21 01:00:00+00:00</td>\n",
       "    </tr>\n",
       "    <tr>\n",
       "      <th>4</th>\n",
       "      <td>2020-09-21 02:00:00+00:00</td>\n",
       "      <td>2020-09-20 00:00:00+00:00</td>\n",
       "      <td>2130.510089</td>\n",
       "      <td>0.0</td>\n",
       "      <td>26</td>\n",
       "      <td>0.015384</td>\n",
       "      <td>0.468752</td>\n",
       "      <td>11.813635</td>\n",
       "      <td>DWD ICON</td>\n",
       "      <td>2020-09-21 02:00:00+00:00</td>\n",
       "    </tr>\n",
       "  </tbody>\n",
       "</table>\n",
       "</div>"
      ],
      "text/plain": [
       "                        dtm              ref_datetime  Solar_capacity_mwp  \\\n",
       "0 2020-09-21 00:00:00+00:00 2020-09-20 00:00:00+00:00         2130.510089   \n",
       "1 2020-09-21 00:00:00+00:00 2020-09-20 00:00:00+00:00         2130.510089   \n",
       "2 2020-09-21 01:00:00+00:00 2020-09-20 00:00:00+00:00         2130.510089   \n",
       "3 2020-09-21 01:00:00+00:00 2020-09-20 00:00:00+00:00         2130.510089   \n",
       "4 2020-09-21 02:00:00+00:00 2020-09-20 00:00:00+00:00         2130.510089   \n",
       "\n",
       "   Solar_MWh  valid_time  SolarDownwardRadiation  CloudCover  Temperature  \\\n",
       "0        0.0          24                0.000000    0.327759    12.216522   \n",
       "1        0.0          24                0.000000    0.002000    12.240011   \n",
       "2        0.0          25                0.008838    0.436067    12.015985   \n",
       "3        0.0          25                0.000000    0.003000    12.032483   \n",
       "4        0.0          26                0.015384    0.468752    11.813635   \n",
       "\n",
       "  Weather Model            valid_datetime  \n",
       "0      DWD ICON 2020-09-21 00:00:00+00:00  \n",
       "1      NCEP GFS 2020-09-21 00:00:00+00:00  \n",
       "2      DWD ICON 2020-09-21 01:00:00+00:00  \n",
       "3      NCEP GFS 2020-09-21 01:00:00+00:00  \n",
       "4      DWD ICON 2020-09-21 02:00:00+00:00  "
      ]
     },
     "execution_count": 4,
     "metadata": {},
     "output_type": "execute_result"
    }
   ],
   "source": [
    "merged_df.head()"
   ]
  },
  {
   "cell_type": "code",
   "execution_count": 13,
   "metadata": {},
   "outputs": [],
   "source": [
    "model, evaluation_md = train_model(merged_df, [\"SolarDownwardRadiation\"], \"Solar_MWh\")"
   ]
  },
  {
   "cell_type": "code",
   "execution_count": 14,
   "metadata": {},
   "outputs": [
    {
     "data": {
      "text/markdown": [
       "### LinearRegression() Evaluation\n",
       "\n",
       "| Dataset | R² | RMSE | MAE | Rows | Columns |\n",
       "|---------|--------:|------------:|--------:|-------:|-------:|\n",
       "| Train   | 0.86309 | 68.05 | 35.81 | 31524 | 1 |\n",
       "| Test    | 0.87030 | 66.60 | 34.95 | 7881 | 1 |\n",
       "\n",
       "### Top 10 Coefficients\n",
       "\n",
       "| Feature Name           |   Coefficient |\n",
       "|:-----------------------|--------------:|\n",
       "| SolarDownwardRadiation |       170.853 |\n",
       "\n",
       "Number of coefficients that are zero: 0/1\n",
       "\n",
       "\n",
       "Alpha value: 0\n"
      ],
      "text/plain": [
       "<IPython.core.display.Markdown object>"
      ]
     },
     "metadata": {},
     "output_type": "display_data"
    }
   ],
   "source": [
    "display(Markdown(evaluation_md))"
   ]
  }
 ],
 "metadata": {
  "kernelspec": {
   "display_name": "base",
   "language": "python",
   "name": "python3"
  },
  "language_info": {
   "codemirror_mode": {
    "name": "ipython",
    "version": 3
   },
   "file_extension": ".py",
   "mimetype": "text/x-python",
   "name": "python",
   "nbconvert_exporter": "python",
   "pygments_lexer": "ipython3",
   "version": "3.11.4"
  }
 },
 "nbformat": 4,
 "nbformat_minor": 2
}
